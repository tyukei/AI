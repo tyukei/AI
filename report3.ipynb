{
  "nbformat": 4,
  "nbformat_minor": 0,
  "metadata": {
    "colab": {
      "provenance": [],
      "authorship_tag": "ABX9TyP6Nfq5OARdcxWzWOQCNShD",
      "include_colab_link": true
    },
    "kernelspec": {
      "name": "python3",
      "display_name": "Python 3"
    },
    "language_info": {
      "name": "python"
    }
  },
  "cells": [
    {
      "cell_type": "markdown",
      "metadata": {
        "id": "view-in-github",
        "colab_type": "text"
      },
      "source": [
        "<a href=\"https://colab.research.google.com/github/tyukei/AI/blob/master/report3.ipynb\" target=\"_parent\"><img src=\"https://colab.research.google.com/assets/colab-badge.svg\" alt=\"Open In Colab\"/></a>"
      ]
    },
    {
      "cell_type": "markdown",
      "source": [
        "# 課題1\n",
        "scikit-learnの toy datasets (https://scikit-learn.org/stable/datasets/toy_dataset.html#toy-datasets) のいずれかから正解なしデータを作成し、適切な教師なし学習問題を設定せよ。そのうえで学習を行い、結果を示すPythonコードを提出せよ。なお、irisデータおよびdiabetesデータに対するクラスタリングは対象外とする。"
      ],
      "metadata": {
        "id": "u3gCE-aum8Il"
      }
    },
    {
      "cell_type": "markdown",
      "source": [
        "# 下準備"
      ],
      "metadata": {
        "id": "c4tDuFViOHmC"
      }
    },
    {
      "cell_type": "markdown",
      "source": [
        "まず、ライブラリーを読み込む"
      ],
      "metadata": {
        "id": "-PZuu0lupA2o"
      }
    },
    {
      "cell_type": "code",
      "source": [
        "import numpy as np\n",
        "import pandas as pd\n",
        "import matplotlib.pyplot as plt\n",
        "from sklearn.datasets import load_wine\n",
        "from sklearn.cluster import AgglomerativeClustering, KMeans, AffinityPropagation\n",
        "from sklearn.mixture import GaussianMixture"
      ],
      "metadata": {
        "id": "7kVW9bx_nCPI"
      },
      "execution_count": 57,
      "outputs": []
    },
    {
      "cell_type": "markdown",
      "source": [
        "## sklearn.datasets.load_wine\n",
        "toy datasetsからload_wineを選択した。\n",
        "ワインを識別するデータセットである\n",
        "\n",
        "https://scikit-learn.org/stable/modules/generated/sklearn.datasets.load_wine.html#sklearn.datasets.load_wine\n",
        "\n"
      ],
      "metadata": {
        "id": "ts_stUB_odUX"
      }
    },
    {
      "cell_type": "markdown",
      "source": [
        "説明変数は13種類ある。\n",
        "1. alcohol アルコール濃度\n",
        "2. malic_acid リンゴ酸\n",
        "3. ash 灰\n",
        "4. alcalinity_of_ash 灰のアルカリ成分\n",
        "5. magnesium マグネシウム\n",
        "6. total_phenols 総フェノール類量\n",
        "7. flavanoids フラボノイド（ポリフェノールの一種）\n",
        "8. nonflavanoid_phenols 非フラボノイドフェノール類\n",
        "9. proanthocyanins プロアントシアニジン（ポリフェノールの一種）\n",
        "10. color_intensity 色の強さ\n",
        "11. hue 色合い\n",
        "12. od280/od315_of_diluted_wines ワインの希釈度合い\n",
        "13. proline プロリン（アミノ酸の一種）\n",
        "\n",
        "目的変数はワインの品種である\n",
        "14. ワインの品種"
      ],
      "metadata": {
        "id": "mAjFN1qkpOj0"
      }
    },
    {
      "cell_type": "markdown",
      "source": [
        "データを読み込む。\n",
        "\n",
        "head()で上位５つを表示することができる。\n",
        "\n",
        "確かに13種の説明変数があることがわかる"
      ],
      "metadata": {
        "id": "80efjH2FDCRt"
      }
    },
    {
      "cell_type": "code",
      "source": [
        "wine = load_wine()\n",
        "X = pd.DataFrame(wine['data'],columns=wine['feature_names'])\n",
        "display(X.iloc[:,:].head())"
      ],
      "metadata": {
        "colab": {
          "base_uri": "https://localhost:8080/",
          "height": 270
        },
        "id": "xPYidDqopQUz",
        "outputId": "91f13153-59e3-4979-8ec6-36b880746a19"
      },
      "execution_count": 58,
      "outputs": [
        {
          "output_type": "display_data",
          "data": {
            "text/plain": [
              "   alcohol  malic_acid   ash  alcalinity_of_ash  magnesium  total_phenols  \\\n",
              "0    14.23        1.71  2.43               15.6      127.0           2.80   \n",
              "1    13.20        1.78  2.14               11.2      100.0           2.65   \n",
              "2    13.16        2.36  2.67               18.6      101.0           2.80   \n",
              "3    14.37        1.95  2.50               16.8      113.0           3.85   \n",
              "4    13.24        2.59  2.87               21.0      118.0           2.80   \n",
              "\n",
              "   flavanoids  nonflavanoid_phenols  proanthocyanins  color_intensity   hue  \\\n",
              "0        3.06                  0.28             2.29             5.64  1.04   \n",
              "1        2.76                  0.26             1.28             4.38  1.05   \n",
              "2        3.24                  0.30             2.81             5.68  1.03   \n",
              "3        3.49                  0.24             2.18             7.80  0.86   \n",
              "4        2.69                  0.39             1.82             4.32  1.04   \n",
              "\n",
              "   od280/od315_of_diluted_wines  proline  \n",
              "0                          3.92   1065.0  \n",
              "1                          3.40   1050.0  \n",
              "2                          3.17   1185.0  \n",
              "3                          3.45   1480.0  \n",
              "4                          2.93    735.0  "
            ],
            "text/html": [
              "\n",
              "  <div id=\"df-7a8dae27-71a7-4a23-90d0-8003778d24d6\">\n",
              "    <div class=\"colab-df-container\">\n",
              "      <div>\n",
              "<style scoped>\n",
              "    .dataframe tbody tr th:only-of-type {\n",
              "        vertical-align: middle;\n",
              "    }\n",
              "\n",
              "    .dataframe tbody tr th {\n",
              "        vertical-align: top;\n",
              "    }\n",
              "\n",
              "    .dataframe thead th {\n",
              "        text-align: right;\n",
              "    }\n",
              "</style>\n",
              "<table border=\"1\" class=\"dataframe\">\n",
              "  <thead>\n",
              "    <tr style=\"text-align: right;\">\n",
              "      <th></th>\n",
              "      <th>alcohol</th>\n",
              "      <th>malic_acid</th>\n",
              "      <th>ash</th>\n",
              "      <th>alcalinity_of_ash</th>\n",
              "      <th>magnesium</th>\n",
              "      <th>total_phenols</th>\n",
              "      <th>flavanoids</th>\n",
              "      <th>nonflavanoid_phenols</th>\n",
              "      <th>proanthocyanins</th>\n",
              "      <th>color_intensity</th>\n",
              "      <th>hue</th>\n",
              "      <th>od280/od315_of_diluted_wines</th>\n",
              "      <th>proline</th>\n",
              "    </tr>\n",
              "  </thead>\n",
              "  <tbody>\n",
              "    <tr>\n",
              "      <th>0</th>\n",
              "      <td>14.23</td>\n",
              "      <td>1.71</td>\n",
              "      <td>2.43</td>\n",
              "      <td>15.6</td>\n",
              "      <td>127.0</td>\n",
              "      <td>2.80</td>\n",
              "      <td>3.06</td>\n",
              "      <td>0.28</td>\n",
              "      <td>2.29</td>\n",
              "      <td>5.64</td>\n",
              "      <td>1.04</td>\n",
              "      <td>3.92</td>\n",
              "      <td>1065.0</td>\n",
              "    </tr>\n",
              "    <tr>\n",
              "      <th>1</th>\n",
              "      <td>13.20</td>\n",
              "      <td>1.78</td>\n",
              "      <td>2.14</td>\n",
              "      <td>11.2</td>\n",
              "      <td>100.0</td>\n",
              "      <td>2.65</td>\n",
              "      <td>2.76</td>\n",
              "      <td>0.26</td>\n",
              "      <td>1.28</td>\n",
              "      <td>4.38</td>\n",
              "      <td>1.05</td>\n",
              "      <td>3.40</td>\n",
              "      <td>1050.0</td>\n",
              "    </tr>\n",
              "    <tr>\n",
              "      <th>2</th>\n",
              "      <td>13.16</td>\n",
              "      <td>2.36</td>\n",
              "      <td>2.67</td>\n",
              "      <td>18.6</td>\n",
              "      <td>101.0</td>\n",
              "      <td>2.80</td>\n",
              "      <td>3.24</td>\n",
              "      <td>0.30</td>\n",
              "      <td>2.81</td>\n",
              "      <td>5.68</td>\n",
              "      <td>1.03</td>\n",
              "      <td>3.17</td>\n",
              "      <td>1185.0</td>\n",
              "    </tr>\n",
              "    <tr>\n",
              "      <th>3</th>\n",
              "      <td>14.37</td>\n",
              "      <td>1.95</td>\n",
              "      <td>2.50</td>\n",
              "      <td>16.8</td>\n",
              "      <td>113.0</td>\n",
              "      <td>3.85</td>\n",
              "      <td>3.49</td>\n",
              "      <td>0.24</td>\n",
              "      <td>2.18</td>\n",
              "      <td>7.80</td>\n",
              "      <td>0.86</td>\n",
              "      <td>3.45</td>\n",
              "      <td>1480.0</td>\n",
              "    </tr>\n",
              "    <tr>\n",
              "      <th>4</th>\n",
              "      <td>13.24</td>\n",
              "      <td>2.59</td>\n",
              "      <td>2.87</td>\n",
              "      <td>21.0</td>\n",
              "      <td>118.0</td>\n",
              "      <td>2.80</td>\n",
              "      <td>2.69</td>\n",
              "      <td>0.39</td>\n",
              "      <td>1.82</td>\n",
              "      <td>4.32</td>\n",
              "      <td>1.04</td>\n",
              "      <td>2.93</td>\n",
              "      <td>735.0</td>\n",
              "    </tr>\n",
              "  </tbody>\n",
              "</table>\n",
              "</div>\n",
              "      <button class=\"colab-df-convert\" onclick=\"convertToInteractive('df-7a8dae27-71a7-4a23-90d0-8003778d24d6')\"\n",
              "              title=\"Convert this dataframe to an interactive table.\"\n",
              "              style=\"display:none;\">\n",
              "        \n",
              "  <svg xmlns=\"http://www.w3.org/2000/svg\" height=\"24px\"viewBox=\"0 0 24 24\"\n",
              "       width=\"24px\">\n",
              "    <path d=\"M0 0h24v24H0V0z\" fill=\"none\"/>\n",
              "    <path d=\"M18.56 5.44l.94 2.06.94-2.06 2.06-.94-2.06-.94-.94-2.06-.94 2.06-2.06.94zm-11 1L8.5 8.5l.94-2.06 2.06-.94-2.06-.94L8.5 2.5l-.94 2.06-2.06.94zm10 10l.94 2.06.94-2.06 2.06-.94-2.06-.94-.94-2.06-.94 2.06-2.06.94z\"/><path d=\"M17.41 7.96l-1.37-1.37c-.4-.4-.92-.59-1.43-.59-.52 0-1.04.2-1.43.59L10.3 9.45l-7.72 7.72c-.78.78-.78 2.05 0 2.83L4 21.41c.39.39.9.59 1.41.59.51 0 1.02-.2 1.41-.59l7.78-7.78 2.81-2.81c.8-.78.8-2.07 0-2.86zM5.41 20L4 18.59l7.72-7.72 1.47 1.35L5.41 20z\"/>\n",
              "  </svg>\n",
              "      </button>\n",
              "      \n",
              "  <style>\n",
              "    .colab-df-container {\n",
              "      display:flex;\n",
              "      flex-wrap:wrap;\n",
              "      gap: 12px;\n",
              "    }\n",
              "\n",
              "    .colab-df-convert {\n",
              "      background-color: #E8F0FE;\n",
              "      border: none;\n",
              "      border-radius: 50%;\n",
              "      cursor: pointer;\n",
              "      display: none;\n",
              "      fill: #1967D2;\n",
              "      height: 32px;\n",
              "      padding: 0 0 0 0;\n",
              "      width: 32px;\n",
              "    }\n",
              "\n",
              "    .colab-df-convert:hover {\n",
              "      background-color: #E2EBFA;\n",
              "      box-shadow: 0px 1px 2px rgba(60, 64, 67, 0.3), 0px 1px 3px 1px rgba(60, 64, 67, 0.15);\n",
              "      fill: #174EA6;\n",
              "    }\n",
              "\n",
              "    [theme=dark] .colab-df-convert {\n",
              "      background-color: #3B4455;\n",
              "      fill: #D2E3FC;\n",
              "    }\n",
              "\n",
              "    [theme=dark] .colab-df-convert:hover {\n",
              "      background-color: #434B5C;\n",
              "      box-shadow: 0px 1px 3px 1px rgba(0, 0, 0, 0.15);\n",
              "      filter: drop-shadow(0px 1px 2px rgba(0, 0, 0, 0.3));\n",
              "      fill: #FFFFFF;\n",
              "    }\n",
              "  </style>\n",
              "\n",
              "      <script>\n",
              "        const buttonEl =\n",
              "          document.querySelector('#df-7a8dae27-71a7-4a23-90d0-8003778d24d6 button.colab-df-convert');\n",
              "        buttonEl.style.display =\n",
              "          google.colab.kernel.accessAllowed ? 'block' : 'none';\n",
              "\n",
              "        async function convertToInteractive(key) {\n",
              "          const element = document.querySelector('#df-7a8dae27-71a7-4a23-90d0-8003778d24d6');\n",
              "          const dataTable =\n",
              "            await google.colab.kernel.invokeFunction('convertToInteractive',\n",
              "                                                     [key], {});\n",
              "          if (!dataTable) return;\n",
              "\n",
              "          const docLinkHtml = 'Like what you see? Visit the ' +\n",
              "            '<a target=\"_blank\" href=https://colab.research.google.com/notebooks/data_table.ipynb>data table notebook</a>'\n",
              "            + ' to learn more about interactive tables.';\n",
              "          element.innerHTML = '';\n",
              "          dataTable['output_type'] = 'display_data';\n",
              "          await google.colab.output.renderOutput(dataTable, element);\n",
              "          const docLink = document.createElement('div');\n",
              "          docLink.innerHTML = docLinkHtml;\n",
              "          element.appendChild(docLink);\n",
              "        }\n",
              "      </script>\n",
              "    </div>\n",
              "  </div>\n",
              "  "
            ]
          },
          "metadata": {}
        }
      ]
    },
    {
      "cell_type": "markdown",
      "source": [
        "データに欠損値(null)がないか確認する。\n",
        "\n",
        "欠損値の有無は 'isnull' メソッドで確認できる\n",
        "\n",
        "Falseのとき欠損値はなく、データはすべて数値が入っていることになる"
      ],
      "metadata": {
        "id": "eCX4aDbcH7Rd"
      }
    },
    {
      "cell_type": "code",
      "source": [
        "print(X.isnull().any(axis=0))"
      ],
      "metadata": {
        "colab": {
          "base_uri": "https://localhost:8080/"
        },
        "id": "Hv4zf5ayH4ET",
        "outputId": "533c033b-f69f-4618-aab8-f8bd477ea08d"
      },
      "execution_count": 59,
      "outputs": [
        {
          "output_type": "stream",
          "name": "stdout",
          "text": [
            "alcohol                         False\n",
            "malic_acid                      False\n",
            "ash                             False\n",
            "alcalinity_of_ash               False\n",
            "magnesium                       False\n",
            "total_phenols                   False\n",
            "flavanoids                      False\n",
            "nonflavanoid_phenols            False\n",
            "proanthocyanins                 False\n",
            "color_intensity                 False\n",
            "hue                             False\n",
            "od280/od315_of_diluted_wines    False\n",
            "proline                         False\n",
            "dtype: bool\n"
          ]
        }
      ]
    },
    {
      "cell_type": "markdown",
      "source": [
        "今回はすべてFalseであったため、データの補充はしない。\n",
        "\n",
        "もし欠損値があれば、各説明変数の平均値や中央値などで補う手法をとる"
      ],
      "metadata": {
        "id": "nuh5tUY-INTP"
      }
    },
    {
      "cell_type": "markdown",
      "source": [
        "ちなみに、正解ラベル(今回であれば、ワインのタイプ)は以下のようにして得ることができる。\n",
        "\n",
        "しかし、今回は教師なし学習のデータであるため、この値を用いない。"
      ],
      "metadata": {
        "id": "Xhyes-nAJk1W"
      }
    },
    {
      "cell_type": "code",
      "source": [
        "wine.target"
      ],
      "metadata": {
        "colab": {
          "base_uri": "https://localhost:8080/"
        },
        "id": "iLmyc1nbJNJx",
        "outputId": "9f5b49e2-c98a-4e9b-c2eb-646d0eb04a73"
      },
      "execution_count": 60,
      "outputs": [
        {
          "output_type": "execute_result",
          "data": {
            "text/plain": [
              "array([0, 0, 0, 0, 0, 0, 0, 0, 0, 0, 0, 0, 0, 0, 0, 0, 0, 0, 0, 0, 0, 0,\n",
              "       0, 0, 0, 0, 0, 0, 0, 0, 0, 0, 0, 0, 0, 0, 0, 0, 0, 0, 0, 0, 0, 0,\n",
              "       0, 0, 0, 0, 0, 0, 0, 0, 0, 0, 0, 0, 0, 0, 0, 1, 1, 1, 1, 1, 1, 1,\n",
              "       1, 1, 1, 1, 1, 1, 1, 1, 1, 1, 1, 1, 1, 1, 1, 1, 1, 1, 1, 1, 1, 1,\n",
              "       1, 1, 1, 1, 1, 1, 1, 1, 1, 1, 1, 1, 1, 1, 1, 1, 1, 1, 1, 1, 1, 1,\n",
              "       1, 1, 1, 1, 1, 1, 1, 1, 1, 1, 1, 1, 1, 1, 1, 1, 1, 1, 1, 1, 2, 2,\n",
              "       2, 2, 2, 2, 2, 2, 2, 2, 2, 2, 2, 2, 2, 2, 2, 2, 2, 2, 2, 2, 2, 2,\n",
              "       2, 2, 2, 2, 2, 2, 2, 2, 2, 2, 2, 2, 2, 2, 2, 2, 2, 2, 2, 2, 2, 2,\n",
              "       2, 2])"
            ]
          },
          "metadata": {},
          "execution_count": 60
        }
      ]
    },
    {
      "cell_type": "markdown",
      "source": [
        "クラスタリング結果のプロットを関数にする"
      ],
      "metadata": {
        "id": "Pju_K4oypl-6"
      }
    },
    {
      "cell_type": "code",
      "source": [
        "def result_plot(X, y):\n",
        "  ''' \n",
        "  Xは2次元に限定、yは各データのクラスタ番号\n",
        "  '''\n",
        "  for t in set(y):\n",
        "    plt.scatter(X[y==t,0], X[y==t,1])\n",
        "  plt.legend(set(y))"
      ],
      "metadata": {
        "id": "CDclZ2oRplF8"
      },
      "execution_count": 61,
      "outputs": []
    },
    {
      "cell_type": "markdown",
      "source": [
        "# 学習の実装"
      ],
      "metadata": {
        "id": "MnAsqi19ONi-"
      }
    },
    {
      "cell_type": "markdown",
      "source": [
        "## 階層的クラスタリング\n",
        "クラスタリングには階層的と非階層的の２種類がある\n",
        "\n",
        "最も似ているグループをまとめるボトムアップと\n",
        "最も離れているグループを分けるトップダウンの２通りのやり方がある。\n",
        "\n",
        "AgglomerativeClusteringを用いて階層的クラスタリングを行う。クラスタ数が3になったところで処理を止める。\n",
        "\n",
        "特徴量は特徴１(alcohol )と特徴２(malic_acid)にする"
      ],
      "metadata": {
        "id": "r78CiFYru01l"
      }
    },
    {
      "cell_type": "code",
      "source": [
        "X = wine.data[:,0:2]"
      ],
      "metadata": {
        "id": "KXgSsqQv2b_Y"
      },
      "execution_count": 62,
      "outputs": []
    },
    {
      "cell_type": "code",
      "source": [
        "ac = AgglomerativeClustering(n_clusters=3)\n",
        "ac.fit(X)"
      ],
      "metadata": {
        "colab": {
          "base_uri": "https://localhost:8080/"
        },
        "id": "O9OTV6Avu6pS",
        "outputId": "5603158e-cab2-4380-c7e1-b93752ca2015"
      },
      "execution_count": 63,
      "outputs": [
        {
          "output_type": "execute_result",
          "data": {
            "text/plain": [
              "AgglomerativeClustering(n_clusters=3)"
            ]
          },
          "metadata": {},
          "execution_count": 63
        }
      ]
    },
    {
      "cell_type": "code",
      "source": [
        "result_plot(X, ac.labels_)"
      ],
      "metadata": {
        "colab": {
          "base_uri": "https://localhost:8080/",
          "height": 267
        },
        "id": "Nt82greCvBL6",
        "outputId": "586b053b-21c4-4dbf-acc4-07e314f92812"
      },
      "execution_count": 64,
      "outputs": [
        {
          "output_type": "display_data",
          "data": {
            "text/plain": [
              "<Figure size 432x288 with 1 Axes>"
            ],
            "image/png": "[encoded data removed]"
          },
          "metadata": {
            "needs_background": "light"
          }
        }
      ]
    },
    {
      "cell_type": "markdown",
      "source": [
        "## 非階層クラスタリング\n",
        "\n",
        "次に非階層的クラスタリングを行う。\n",
        "\n",
        "代表的なものにk-meansクラスタリングがある。\n",
        "\n",
        "k-means クラスタリングは、ある点をクラスタの中心とし、\n",
        "\n",
        "その中心と各点の距離を計算する。\n",
        "\n",
        "各点で一番近いクラスタに割り当てる"
      ],
      "metadata": {
        "id": "qDj8hGT7D1Dw"
      }
    },
    {
      "cell_type": "markdown",
      "source": [
        "今回はKMeansを用いて分割最適化クラスタリングを行う。クラスタ数3は予め与えておく必要がある。"
      ],
      "metadata": {
        "id": "3xSNB3RIEvS0"
      }
    },
    {
      "cell_type": "code",
      "source": [
        "km = KMeans(n_clusters = 3,init='random',random_state=3)\n",
        "km.fit(X)"
      ],
      "metadata": {
        "colab": {
          "base_uri": "https://localhost:8080/"
        },
        "id": "RO39ZQgjE0Jg",
        "outputId": "be40030d-d7d1-431d-c3ec-a992200ee92e"
      },
      "execution_count": 65,
      "outputs": [
        {
          "output_type": "execute_result",
          "data": {
            "text/plain": [
              "KMeans(init='random', n_clusters=3, random_state=3)"
            ]
          },
          "metadata": {},
          "execution_count": 65
        }
      ]
    },
    {
      "cell_type": "markdown",
      "source": [
        "散布図をプロットして結果を確認する。"
      ],
      "metadata": {
        "id": "5hr1GdBLE8aJ"
      }
    },
    {
      "cell_type": "code",
      "source": [
        "result_plot(X, km.labels_)"
      ],
      "metadata": {
        "colab": {
          "base_uri": "https://localhost:8080/",
          "height": 267
        },
        "id": "ed8ZTwSYE76B",
        "outputId": "964f5167-3534-4a5f-e40f-e93f17619489"
      },
      "execution_count": 66,
      "outputs": [
        {
          "output_type": "display_data",
          "data": {
            "text/plain": [
              "<Figure size 432x288 with 1 Axes>"
            ],
            "image/png": "[encoded data removed]"
          },
          "metadata": {
            "needs_background": "light"
          }
        }
      ]
    },
    {
      "cell_type": "markdown",
      "source": [
        "# 考察\n",
        "\n"
      ],
      "metadata": {
        "id": "Sj1M-N1LOVkU"
      }
    },
    {
      "cell_type": "markdown",
      "source": [
        "### 階層的クラスタリングと非階層クラスタリングについて\n",
        "\n",
        "クラスタリングのプロット結果を見比べると、\n",
        "およその分類分けは一致している。\n",
        "\n",
        "しかし、よく見てみると、階層的クラスタリングでは、\n",
        "クラスタリングのタイプ２のものはx軸が13より小さいところもふくまれているが、\n",
        "非階層的クラスタリングの場合、x軸が13より小さい点は含まれていない。\n",
        "\n",
        "また、階層的クラスタリングでは、クラスタリングのタイプ２のものが、y軸が2より大きい点は含まれていないが、非階層的クラスタリングでは、2より大きい点が含まれている。\n",
        "\n",
        "このように若干の違いがあった。"
      ],
      "metadata": {
        "id": "bEiGahHZQSnS"
      }
    },
    {
      "cell_type": "code",
      "source": [
        "result_plot(X, ac.labels_) #階層的クラスタリング"
      ],
      "metadata": {
        "colab": {
          "base_uri": "https://localhost:8080/",
          "height": 267
        },
        "id": "emhk9fHIRzU-",
        "outputId": "12ea47c4-6826-457f-c059-ab59926aeb1f"
      },
      "execution_count": 67,
      "outputs": [
        {
          "output_type": "display_data",
          "data": {
            "text/plain": [
              "<Figure size 432x288 with 1 Axes>"
            ],
            "image/png": "[encoded data removed]"
          },
          "metadata": {
            "needs_background": "light"
          }
        }
      ]
    },
    {
      "cell_type": "code",
      "source": [
        "result_plot(X, km.labels_) #非階層的クラスタリング"
      ],
      "metadata": {
        "colab": {
          "base_uri": "https://localhost:8080/",
          "height": 267
        },
        "id": "dtkG_15HR7Oa",
        "outputId": "4a9299a6-5df1-462e-b02e-7428536c5732"
      },
      "execution_count": 68,
      "outputs": [
        {
          "output_type": "display_data",
          "data": {
            "text/plain": [
              "<Figure size 432x288 with 1 Axes>"
            ],
            "image/png": "[encoded data removed]"
          },
          "metadata": {
            "needs_background": "light"
          }
        }
      ]
    },
    {
      "cell_type": "markdown",
      "source": [
        "階層的クラスタリングではデータ同士の距離を調べ、\n",
        "グループ化を行う。\n",
        "\n",
        "一方で、非階層的クラスタリングでは、一点中心を決め、\n",
        "中心と点の距離からグループ化を行う。\n",
        "\n",
        "そのため、若干の差が出たと考えられる。\n",
        "\n",
        "しかし、大きくことなることはなく、もしどちらか一方が\n",
        "よい精度をとったとき、もう一方の学習法も大きく精度は落ちることはなく\n",
        "使用できると考えられる"
      ],
      "metadata": {
        "id": "v4piREHpUQ1w"
      }
    },
    {
      "cell_type": "markdown",
      "source": [
        "### 階層的クラスタリングについて"
      ],
      "metadata": {
        "id": "fOyCHS9XS7R_"
      }
    },
    {
      "cell_type": "markdown",
      "source": [
        "類似度(距離の計算方法)はAgglomerativeClusteringの引数linkageで指定できる。\n",
        "\n",
        "可能な値は'ward', 'complete', 'average', 'single' で、デフォルトは 'ward'である。\n",
        "\n",
        "ウォード法（Ward Linkage）\n",
        "\n",
        "ウォード法は、すべてのクラスター内の差の2乗の合計を最小化する。\n",
        "\n",
        "せっかくなので、別のパラメータで実験を行う。"
      ],
      "metadata": {
        "id": "LjMdnCo-2spL"
      }
    },
    {
      "cell_type": "markdown",
      "source": [
        "完全リンク法（Complete Linkage）\n",
        "\n",
        "クラスターのペアの観測間の最大距離を最小化する。\n",
        "\n",
        "completeのときの結果は以下になる"
      ],
      "metadata": {
        "id": "V3StykKt21bg"
      }
    },
    {
      "cell_type": "code",
      "source": [
        "ac1 = AgglomerativeClustering(linkage='complete', n_clusters=3)\n",
        "ac1.fit(X)\n",
        "result_plot(X, ac1.labels_)"
      ],
      "metadata": {
        "colab": {
          "base_uri": "https://localhost:8080/",
          "height": 267
        },
        "id": "TiUjCUtx25c-",
        "outputId": "5bb0eb45-3008-4bb9-a9a6-0158cbb3ba1a"
      },
      "execution_count": 69,
      "outputs": [
        {
          "output_type": "display_data",
          "data": {
            "text/plain": [
              "<Figure size 432x288 with 1 Axes>"
            ],
            "image/png": "[encoded data removed]"
          },
          "metadata": {
            "needs_background": "light"
          }
        }
      ]
    },
    {
      "cell_type": "markdown",
      "source": [
        "平均法（Average Linkage）\n",
        "\n",
        "すべての観測間の距離の平均を最小化する。\n",
        "\n",
        "averageのときの結果は以下になる"
      ],
      "metadata": {
        "id": "O2az6_yk2-6N"
      }
    },
    {
      "cell_type": "code",
      "source": [
        "ac2 = AgglomerativeClustering(linkage='average', n_clusters=3)\n",
        "ac2.fit(X)\n",
        "result_plot(X, ac2.labels_)"
      ],
      "metadata": {
        "colab": {
          "base_uri": "https://localhost:8080/",
          "height": 267
        },
        "id": "e2Kg0ZyG2q-C",
        "outputId": "4b2f9f2d-7531-4fc2-d998-161a6f019ad2"
      },
      "execution_count": 70,
      "outputs": [
        {
          "output_type": "display_data",
          "data": {
            "text/plain": [
              "<Figure size 432x288 with 1 Axes>"
            ],
            "image/png": "[encoded data removed]"
          },
          "metadata": {
            "needs_background": "light"
          }
        }
      ]
    },
    {
      "cell_type": "markdown",
      "source": [
        "単リンク法 （Single Linkage）\n",
        "\n",
        "クラスターのペアの最も近い観測間の距離を最小化する。\n",
        "\n",
        "singleのときの結果は以下になる"
      ],
      "metadata": {
        "id": "8CmiLSbe3Cel"
      }
    },
    {
      "cell_type": "code",
      "source": [
        "ac3 = AgglomerativeClustering(linkage='single', n_clusters=3)\n",
        "ac3.fit(X)\n",
        "result_plot(X, ac3.labels_)"
      ],
      "metadata": {
        "colab": {
          "base_uri": "https://localhost:8080/",
          "height": 267
        },
        "id": "4Qsrvg2Q3F2S",
        "outputId": "30dc8c34-70aa-4f1a-d888-9688bf616fd7"
      },
      "execution_count": 71,
      "outputs": [
        {
          "output_type": "display_data",
          "data": {
            "text/plain": [
              "<Figure size 432x288 with 1 Axes>"
            ],
            "image/png": "[encoded data removed]"
          },
          "metadata": {
            "needs_background": "light"
          }
        }
      ]
    },
    {
      "cell_type": "markdown",
      "source": [
        "計算方法がことなるので、結果は異なるものになった。\n",
        "\n",
        "一方で、ウォード法と完全リンク法は似た形となった。\n",
        "\n",
        "ノイズや外れ値、データの計算時間などから計算方法を変えると有効なのではないかと考えられる。"
      ],
      "metadata": {
        "id": "mTv_sgH_Xy-f"
      }
    },
    {
      "cell_type": "markdown",
      "source": [
        "### 非階層的クラスタリングについて"
      ],
      "metadata": {
        "id": "oOXZEl7BTJYE"
      }
    },
    {
      "cell_type": "markdown",
      "source": [
        "k-means方のデメリットでは、各クラスタの中心によって、\n",
        "結果は左右される点である。\n",
        "\n",
        "各クラスをランダムに選ぶときは```init='randam'```とし、\n",
        "集合の中心を選ぶアルゴリズムを用いるときは```init='k-means++```\n",
        "とする。\n",
        "\n",
        "せっかくなので、パラメータを調整して、実験を行う。\n",
        "\n"
      ],
      "metadata": {
        "id": "rM7Z2328MhNa"
      }
    },
    {
      "cell_type": "code",
      "source": [
        "km1 = KMeans(n_clusters = 3,init='k-means++',random_state=3)\n",
        "km1.fit(X)"
      ],
      "metadata": {
        "colab": {
          "base_uri": "https://localhost:8080/"
        },
        "id": "Ia3QQ8VWMQit",
        "outputId": "8dd7fa50-f267-45df-d180-e1257b3127db"
      },
      "execution_count": 72,
      "outputs": [
        {
          "output_type": "execute_result",
          "data": {
            "text/plain": [
              "KMeans(n_clusters=3, random_state=3)"
            ]
          },
          "metadata": {},
          "execution_count": 72
        }
      ]
    },
    {
      "cell_type": "code",
      "source": [
        "result_plot(X, km1.labels_)"
      ],
      "metadata": {
        "colab": {
          "base_uri": "https://localhost:8080/",
          "height": 267
        },
        "id": "MVJiBPmgMVkW",
        "outputId": "f774e4eb-e8ec-416d-cfec-78fccec3a01a"
      },
      "execution_count": 73,
      "outputs": [
        {
          "output_type": "display_data",
          "data": {
            "text/plain": [
              "<Figure size 432x288 with 1 Axes>"
            ],
            "image/png": "[encoded data removed]"
          },
          "metadata": {
            "needs_background": "light"
          }
        }
      ]
    },
    {
      "cell_type": "markdown",
      "source": [
        "１、２点クラスタリングの違いはあるものの、\n",
        "目立った違いは見つからなかった。\n",
        "\n",
        "初期値の中心点で結果は変わらない理由は他にあるのではないかと思いさらに調査した。\n",
        "\n",
        "パラメータの一つに```n_init```がある。これで、初期値の点を複数回設定することができる。\n",
        "\n",
        "デフォルトでは10となっており、ランダムであろうとk-means++であろうと、\n",
        "複数回初期値が設定されているので違いが見えなかったと考えた。\n",
        "\n",
        "そこで、```n_init=1```で実験を行った。"
      ],
      "metadata": {
        "id": "-ce6GY8VYTVI"
      }
    },
    {
      "cell_type": "code",
      "source": [
        "km2 = KMeans(n_clusters = 3,init='k-means++',n_init =1,random_state=3)\n",
        "km2.fit(X)\n",
        "result_plot(X, km2.labels_)"
      ],
      "metadata": {
        "colab": {
          "base_uri": "https://localhost:8080/",
          "height": 267
        },
        "id": "-fpIA22SNpmO",
        "outputId": "ae69acea-0789-49bd-d42e-805a5a1e2dab"
      },
      "execution_count": 74,
      "outputs": [
        {
          "output_type": "display_data",
          "data": {
            "text/plain": [
              "<Figure size 432x288 with 1 Axes>"
            ],
            "image/png": "[encoded data removed]"
          },
          "metadata": {
            "needs_background": "light"
          }
        }
      ]
    },
    {
      "cell_type": "code",
      "source": [
        "km3 = KMeans(n_clusters = 3,init='random',n_init =1,random_state=3)\n",
        "km3.fit(X)\n",
        "result_plot(X, km3.labels_)"
      ],
      "metadata": {
        "colab": {
          "base_uri": "https://localhost:8080/",
          "height": 267
        },
        "id": "eC2PrZxtNy3f",
        "outputId": "5c82eda5-85e5-4e10-d202-5f56f5215aa7"
      },
      "execution_count": 75,
      "outputs": [
        {
          "output_type": "display_data",
          "data": {
            "text/plain": [
              "<Figure size 432x288 with 1 Axes>"
            ],
            "image/png": "[encoded data removed]"
          },
          "metadata": {
            "needs_background": "light"
          }
        }
      ]
    },
    {
      "cell_type": "markdown",
      "source": [
        "```n_init=1```\n",
        "にしたところ、\n",
        "大きく変わることもなく、\n",
        "また、\n",
        "```init='random'```\n",
        "```init='k-means++'```\n",
        "の違いも視覚的には判断できなかった。\n",
        "\n",
        "データ量が少なかったり、外れ値やノイズが小さいことなどで、\n",
        "目立った違いは見られなかったかもしれないが、\n",
        "この程度のデータは違いは見られなかったことがわかった。\n"
      ],
      "metadata": {
        "id": "-uW9ykiQZ8Q0"
      }
    },
    {
      "cell_type": "markdown",
      "source": [
        "# 課題2\n",
        "教師なし学習の結果を評価する方法についてまとめたレポートを作成せよ。議論の妥当性を示すPythonによるコードも示すこと。\n",
        "参考\n",
        "scikit-learn user guide 2.3.10. Clustering performance evaluation\n",
        "https://scikit-learn.org/stable/modules/clustering.html#clustering-performance-evaluation"
      ],
      "metadata": {
        "id": "wTgKOE7Ibble"
      }
    },
    {
      "cell_type": "markdown",
      "source": [
        "### 視覚的評価\n",
        "まず視覚的に評価を行う"
      ],
      "metadata": {
        "id": "M01hB9PgGO48"
      }
    },
    {
      "cell_type": "markdown",
      "source": [
        "以下は正解ラベルのプロット結果である"
      ],
      "metadata": {
        "id": "i9vFV9qFHBw7"
      }
    },
    {
      "cell_type": "code",
      "source": [
        "result_plot(X, wine.target)"
      ],
      "metadata": {
        "colab": {
          "base_uri": "https://localhost:8080/",
          "height": 267
        },
        "id": "HwOQz0hvGOL2",
        "outputId": "8564092c-59b7-439e-a2a8-2955ad8345cb"
      },
      "execution_count": 76,
      "outputs": [
        {
          "output_type": "display_data",
          "data": {
            "text/plain": [
              "<Figure size 432x288 with 1 Axes>"
            ],
            "image/png": "[encoded data removed]"
          },
          "metadata": {
            "needs_background": "light"
          }
        }
      ]
    },
    {
      "cell_type": "markdown",
      "source": [
        "以下は階層的クラスタリングのプロットの結果である"
      ],
      "metadata": {
        "id": "aqn9rceFHHFb"
      }
    },
    {
      "cell_type": "code",
      "source": [
        "result_plot(X,ac.labels_)"
      ],
      "metadata": {
        "colab": {
          "base_uri": "https://localhost:8080/",
          "height": 267
        },
        "id": "P9-NWGNuGs4v",
        "outputId": "aae134a1-e36b-4a3f-b8cf-8412237c7540"
      },
      "execution_count": 77,
      "outputs": [
        {
          "output_type": "display_data",
          "data": {
            "text/plain": [
              "<Figure size 432x288 with 1 Axes>"
            ],
            "image/png": "[encoded data removed]"
          },
          "metadata": {
            "needs_background": "light"
          }
        }
      ]
    },
    {
      "cell_type": "markdown",
      "source": [
        "以下は非階層的クラスタリングのプロットの結果である。"
      ],
      "metadata": {
        "id": "DuJKWmpqHNWN"
      }
    },
    {
      "cell_type": "code",
      "source": [
        "result_plot(X,km.labels_)"
      ],
      "metadata": {
        "colab": {
          "base_uri": "https://localhost:8080/",
          "height": 267
        },
        "id": "-vcL4btCG418",
        "outputId": "3e881899-ee22-493e-8f8a-bc1fd8335fad"
      },
      "execution_count": 78,
      "outputs": [
        {
          "output_type": "display_data",
          "data": {
            "text/plain": [
              "<Figure size 432x288 with 1 Axes>"
            ],
            "image/png": "[encoded data removed]"
          },
          "metadata": {
            "needs_background": "light"
          }
        }
      ]
    },
    {
      "cell_type": "markdown",
      "source": [
        "正解ラベルのプロットを見ると、\n",
        "x軸が12.5から13の間でクラスタリング番号が複数交じり合っている。\n",
        "\n",
        "一方で、教師なし学習させた結果では、あるy軸で境界線が引けるように交じりあっておらず、正解ラベルと一致していない部分が見える。\n",
        "\n",
        "他の部分も同様に正解ラベルは複雑に交じりあっているが、\n",
        "学習させた結果は単純に境界線が引けそうにクラスタリングがされているものであった。\n",
        "\n",
        "そこから階層的クラスタリングと非階層的クラスタリングはともにおおよそクラスタリングはできているが、正答率は100パーセントや90パーセント以上以上ではなさそうと視覚的に判断できる。\n",
        "\n",
        "一方で、階層的クラスタリングと非階層的クラスタリングではどちらが正答率が高いかは視覚的には判断ができない。"
      ],
      "metadata": {
        "id": "Ok_scHGEHTFQ"
      }
    },
    {
      "cell_type": "markdown",
      "source": [
        "### 数量的評価\n",
        "[2.3.10.1. Rand index](https://scikit-learn.org/stable/modules/clustering.html#clustering-performance-evaluation)\n",
        "を参考に評価を行う\n",
        "\n",
        "まずライブラリーを読み込む\n"
      ],
      "metadata": {
        "id": "2JbPdH3hb8PL"
      }
    },
    {
      "cell_type": "code",
      "source": [
        "from sklearn import metrics\n",
        "from sklearn.metrics import accuracy_score"
      ],
      "metadata": {
        "id": "xRJJZJ-RcTHP"
      },
      "execution_count": 79,
      "outputs": []
    },
    {
      "cell_type": "markdown",
      "source": [
        "次に正解ラベルと出力データを与え\n",
        "ランド指数でクラスリング間の類似度を計算する\n",
        "\n",
        "また、調整されていないランド指数 ```rand_score``` と調整ランド指数```adjust_rand_score```がある。\n",
        "どちらも1に近いほどクラスリング間の類似度が高く、０に近いほど類似度が低い。\n",
        "\n",
        "正答率は```accuracy_score```を用いる"
      ],
      "metadata": {
        "id": "Jk0N2F9rcZHY"
      }
    },
    {
      "cell_type": "markdown",
      "source": [
        "### 階層的クラスタリングの評価"
      ],
      "metadata": {
        "id": "Ini7kWC4Vgi_"
      }
    },
    {
      "cell_type": "code",
      "source": [
        "labels_true = wine.target\n",
        "ac_pred = ac.labels_\n",
        "print(f\"rand_score:{metrics.rand_score(labels_true, ac_pred)}\")\n",
        "print(f\"adjusted_rand_score:{metrics.adjusted_rand_score(labels_true, ac_pred)}\")\n",
        "print(f\"accuracy_score:{accuracy_score(labels_true, ac_pred)}\")"
      ],
      "metadata": {
        "colab": {
          "base_uri": "https://localhost:8080/"
        },
        "id": "MTUfSHr0cdzI",
        "outputId": "4ce7ae15-6f7f-49bd-bd64-b77138c19bf6"
      },
      "execution_count": 80,
      "outputs": [
        {
          "output_type": "stream",
          "name": "stdout",
          "text": [
            "rand_score:0.7382085951882181\n",
            "adjusted_rand_score:0.41319890870525655\n",
            "accuracy_score:0.07865168539325842\n"
          ]
        }
      ]
    },
    {
      "cell_type": "markdown",
      "source": [
        "```rand_score```は0.73で類似度は高いことがわかる。\n",
        "一方で、```adjust_rand_score```は0.41と低く類似度はそこまで高くないことがわかる。\n",
        "\n",
        "また正答率は0.07であり視覚的に評価したときよりも正答率が低いと考えられる。\n",
        "正答ラベルと学習結果のクラスタリング番号に違いがあるためだと考えられる。\n",
        "そこでクラスタリング番号修正し再度評価を行う。"
      ],
      "metadata": {
        "id": "DdVDggfAL0dO"
      }
    },
    {
      "cell_type": "code",
      "source": [
        "adjust_label_true=np.array(list(range(0,len(wine.target))))\n",
        "for num in range(len(wine.target)):\n",
        "  if wine.target[num] == 0:\n",
        "    adjust_label_true[num] = 2\n",
        "  elif wine.target[num] == 1:\n",
        "    adjust_label_true[num] = 0\n",
        "  elif wine.target[num] == 2:\n",
        "    adjust_label_true[num] = 1\n",
        "\n",
        "print(adjust_label_true)\n"
      ],
      "metadata": {
        "colab": {
          "base_uri": "https://localhost:8080/"
        },
        "id": "-k_DcNmPMeQY",
        "outputId": "9ccaeb96-a2b2-403c-9d02-c53d904b929a"
      },
      "execution_count": 87,
      "outputs": [
        {
          "output_type": "stream",
          "name": "stdout",
          "text": [
            "[2 2 2 2 2 2 2 2 2 2 2 2 2 2 2 2 2 2 2 2 2 2 2 2 2 2 2 2 2 2 2 2 2 2 2 2 2\n",
            " 2 2 2 2 2 2 2 2 2 2 2 2 2 2 2 2 2 2 2 2 2 2 0 0 0 0 0 0 0 0 0 0 0 0 0 0 0\n",
            " 0 0 0 0 0 0 0 0 0 0 0 0 0 0 0 0 0 0 0 0 0 0 0 0 0 0 0 0 0 0 0 0 0 0 0 0 0\n",
            " 0 0 0 0 0 0 0 0 0 0 0 0 0 0 0 0 0 0 0 1 1 1 1 1 1 1 1 1 1 1 1 1 1 1 1 1 1\n",
            " 1 1 1 1 1 1 1 1 1 1 1 1 1 1 1 1 1 1 1 1 1 1 1 1 1 1 1 1 1 1]\n"
          ]
        }
      ]
    },
    {
      "cell_type": "code",
      "source": [
        "result_plot(X, adjust_label_true)"
      ],
      "metadata": {
        "colab": {
          "base_uri": "https://localhost:8080/",
          "height": 267
        },
        "id": "UszNHVABSm6I",
        "outputId": "d04cd345-9181-44d3-de1f-b59ccc794861"
      },
      "execution_count": 88,
      "outputs": [
        {
          "output_type": "display_data",
          "data": {
            "text/plain": [
              "<Figure size 432x288 with 1 Axes>"
            ],
            "image/png": "[encoded data removed]"
          },
          "metadata": {
            "needs_background": "light"
          }
        }
      ]
    },
    {
      "cell_type": "code",
      "source": [
        "ac_pred = ac.labels_\n",
        "print(f\"rand_score:{metrics.rand_score(adjust_label_true, ac_pred)}\")\n",
        "print(f\"adjusted_rand_score:{metrics.adjusted_rand_score(adjust_label_true, ac_pred)}\")\n",
        "print(f\"accuracy_score:{accuracy_score(adjust_label_true, ac_pred)}\")"
      ],
      "metadata": {
        "colab": {
          "base_uri": "https://localhost:8080/"
        },
        "id": "dZnQD9NnUdIf",
        "outputId": "ae7c2a48-3d6b-4a3d-8715-3de5e1fe740f"
      },
      "execution_count": 90,
      "outputs": [
        {
          "output_type": "stream",
          "name": "stdout",
          "text": [
            "rand_score:0.7382085951882181\n",
            "adjusted_rand_score:0.41319890870525655\n",
            "accuracy_score:0.7528089887640449\n"
          ]
        }
      ]
    },
    {
      "cell_type": "markdown",
      "source": [
        "```rand_score```と```adjusted_rand_score```はクラスタリング番号を変更する前と変わらず同じ値であった。\n",
        "一方で正答率は0.75と上昇しており、視覚的評価からの正答率とほぼ一致している。\n",
        "\n",
        "ここから、ランド指数はクラスタリング番号関わらず類似度を評価できる計算方法だともわかる。"
      ],
      "metadata": {
        "id": "cvayR1VHUsYe"
      }
    },
    {
      "cell_type": "markdown",
      "source": [
        "### 非階層的クラスタリングの評価"
      ],
      "metadata": {
        "id": "qM0Y7Ow3Vkcg"
      }
    },
    {
      "cell_type": "code",
      "source": [
        "km_pred = km.labels_\n",
        "print(f\"rand_score:{metrics.rand_score(labels_true, km_pred)}\")\n",
        "print(f\"adjusted_rand_score:{metrics.adjusted_rand_score(labels_true, km_pred)}\")\n",
        "print(f\"accuracy_score:{accuracy_score(adjust_label_true, km_pred)}\")"
      ],
      "metadata": {
        "colab": {
          "base_uri": "https://localhost:8080/"
        },
        "id": "oVo3LapxddJF",
        "outputId": "b01866e8-8562-4be6-be1c-8f36cd4b6052"
      },
      "execution_count": 91,
      "outputs": [
        {
          "output_type": "stream",
          "name": "stdout",
          "text": [
            "rand_score:0.7622040246302292\n",
            "adjusted_rand_score:0.46698426576379515\n",
            "accuracy_score:0.7808988764044944\n"
          ]
        }
      ]
    },
    {
      "cell_type": "markdown",
      "source": [
        "```rand_score```は0.76で類似度は高いことがわかる。\n",
        "一方で、```adjust_rand_score```は0.46と低く類似度はそこまで高くないことがわかる。\n",
        "正答率は0.78であった。"
      ],
      "metadata": {
        "id": "TZydnIC2VsiW"
      }
    },
    {
      "cell_type": "markdown",
      "source": [
        "### 階層的クラスタリングと非階層的クラスタリングについて\n",
        "\n",
        "上記の結果をまとめると以下のようになった\n",
        "\n",
        "||  階層的クラスタリング |  非階層的クラスタリング  |\n",
        "|---           | ----   | ----   |\n",
        "|ランド指数    |  0.74  |  0.76  |\n",
        "|調整ランド指数|  0.41  |  0.47  |\n",
        "|正答率        |  0.75  |  0.78  |\n",
        "\n",
        "ランド指数、調整ランド指数、正答率ともに非階層的クラスタリングのほうが良い結果となった。"
      ],
      "metadata": {
        "id": "GVQ0B0AwV-Kw"
      }
    }
  ]
}