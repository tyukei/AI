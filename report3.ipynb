{
  "nbformat": 4,
  "nbformat_minor": 0,
  "metadata": {
    "colab": {
      "provenance": [],
      "authorship_tag": "ABX9TyMR2aghmHIFXPjZLSkFlXxp",
      "include_colab_link": true
    },
    "kernelspec": {
      "name": "python3",
      "display_name": "Python 3"
    },
    "language_info": {
      "name": "python"
    }
  },
  "cells": [
    {
      "cell_type": "markdown",
      "metadata": {
        "id": "view-in-github",
        "colab_type": "text"
      },
      "source": [
        "<a href=\"https://colab.research.google.com/github/tyukei/AI/blob/master/report3.ipynb\" target=\"_parent\"><img src=\"https://colab.research.google.com/assets/colab-badge.svg\" alt=\"Open In Colab\"/></a>"
      ]
    },
    {
      "cell_type": "markdown",
      "source": [
        "# 課題1\n",
        "scikit-learnの toy datasets (https://scikit-learn.org/stable/datasets/toy_dataset.html#toy-datasets) のいずれかから正解なしデータを作成し、適切な教師なし学習問題を設定せよ。そのうえで学習を行い、結果を示すPythonコードを提出せよ。なお、irisデータおよびdiabetesデータに対するクラスタリングは対象外とする。"
      ],
      "metadata": {
        "id": "u3gCE-aum8Il"
      }
    },
    {
      "cell_type": "markdown",
      "source": [
        "まず、ライブラリーを読み込む"
      ],
      "metadata": {
        "id": "-PZuu0lupA2o"
      }
    },
    {
      "cell_type": "code",
      "source": [
        "import numpy as np\n",
        "import matplotlib.pyplot as plt\n",
        "from sklearn.datasets import load_wine\n",
        "from sklearn.cluster import AgglomerativeClustering, KMeans, AffinityPropagation\n",
        "from sklearn.mixture import GaussianMixture"
      ],
      "metadata": {
        "id": "7kVW9bx_nCPI"
      },
      "execution_count": 18,
      "outputs": []
    },
    {
      "cell_type": "markdown",
      "source": [
        "## sklearn.datasets.load_wine\n",
        "toy datasetsからload_wineを選択した。\n",
        "ワインを識別するデータセットである\n",
        "\n",
        "https://scikit-learn.org/stable/modules/generated/sklearn.datasets.load_wine.html#sklearn.datasets.load_wine\n",
        "\n"
      ],
      "metadata": {
        "id": "ts_stUB_odUX"
      }
    },
    {
      "cell_type": "markdown",
      "source": [
        "説明変数は13種類ある。\n",
        "1. alcohol アルコール濃度\n",
        "2. malic_acid リンゴ酸\n",
        "3. ash 灰\n",
        "4. alcalinity_of_ash 灰のアルカリ成分（？\n",
        "5. magnesium マグネシウム\n",
        "6. total_phenols 総フェノール類量\n",
        "7. flavanoids フラボノイド（ポリフェノールらしい）\n",
        "8. nonflavanoid_phenols 非フラボノイドフェノール類\n",
        "9. proanthocyanins プロアントシアニジン（ポリフェノールの一種らしい）\n",
        "10. color_intensity 色の強さ\n",
        "11. hue 色合い\n",
        "12. od280/od315_of_diluted_wines ワインの希釈度合い\n",
        "13. proline プロリン（アミノ酸の一種らしい）\n",
        "\n",
        "目的変数はワインの品種である\n",
        "14. ワインの品種"
      ],
      "metadata": {
        "id": "mAjFN1qkpOj0"
      }
    },
    {
      "cell_type": "code",
      "source": [
        "wine = load_wine()\n",
        "X = wine.data[:3,:]\n",
        "X"
      ],
      "metadata": {
        "colab": {
          "base_uri": "https://localhost:8080/"
        },
        "id": "xPYidDqopQUz",
        "outputId": "c6c4a77a-343a-4219-b98c-153d19bba68d"
      },
      "execution_count": 30,
      "outputs": [
        {
          "output_type": "execute_result",
          "data": {
            "text/plain": [
              "array([[1.423e+01, 1.710e+00, 2.430e+00, 1.560e+01, 1.270e+02, 2.800e+00,\n",
              "        3.060e+00, 2.800e-01, 2.290e+00, 5.640e+00, 1.040e+00, 3.920e+00,\n",
              "        1.065e+03],\n",
              "       [1.320e+01, 1.780e+00, 2.140e+00, 1.120e+01, 1.000e+02, 2.650e+00,\n",
              "        2.760e+00, 2.600e-01, 1.280e+00, 4.380e+00, 1.050e+00, 3.400e+00,\n",
              "        1.050e+03],\n",
              "       [1.316e+01, 2.360e+00, 2.670e+00, 1.860e+01, 1.010e+02, 2.800e+00,\n",
              "        3.240e+00, 3.000e-01, 2.810e+00, 5.680e+00, 1.030e+00, 3.170e+00,\n",
              "        1.185e+03]])"
            ]
          },
          "metadata": {},
          "execution_count": 30
        }
      ]
    },
    {
      "cell_type": "code",
      "source": [
        "wine.target[:3]"
      ],
      "metadata": {
        "colab": {
          "base_uri": "https://localhost:8080/"
        },
        "id": "62rCbIgD2I89",
        "outputId": "309b13de-8999-41d4-a089-ae291fa32dc5"
      },
      "execution_count": 33,
      "outputs": [
        {
          "output_type": "execute_result",
          "data": {
            "text/plain": [
              "array([0, 0, 0])"
            ]
          },
          "metadata": {},
          "execution_count": 33
        }
      ]
    },
    {
      "cell_type": "markdown",
      "source": [
        "クラスタリング結果のプロットを関数にする"
      ],
      "metadata": {
        "id": "Pju_K4oypl-6"
      }
    },
    {
      "cell_type": "code",
      "source": [
        "def result_plot(X, y):\n",
        "  ''' \n",
        "  Xは2次元に限定、yは各データのクラスタ番号\n",
        "  '''\n",
        "  for t in set(y):\n",
        "    plt.scatter(X[y==t,0], X[y==t,1])\n",
        "  plt.legend(set(y))"
      ],
      "metadata": {
        "id": "CDclZ2oRplF8"
      },
      "execution_count": 20,
      "outputs": []
    },
    {
      "cell_type": "markdown",
      "source": [
        "## 階層的クラスタリング\n",
        "クラスタリングには階層的と非階層的の２種類がある\n",
        "最も似ているグループをまとめるボトムアップと\n",
        "最も離れているグループを分けるトップダウンの２通りのやり方がある。\n",
        "\n",
        "AgglomerativeClusteringを用いて階層的クラスタリングを行う。クラスタ数が3になったところで処理を止める。\n",
        "\n",
        "特徴量は特徴１(alcohol )と特徴２(malic_acid)にする"
      ],
      "metadata": {
        "id": "r78CiFYru01l"
      }
    },
    {
      "cell_type": "code",
      "source": [
        "X = wine.data[:,0:2]"
      ],
      "metadata": {
        "id": "KXgSsqQv2b_Y"
      },
      "execution_count": 34,
      "outputs": []
    },
    {
      "cell_type": "code",
      "source": [
        "ac = AgglomerativeClustering(n_clusters=3)\n",
        "ac.fit(X)"
      ],
      "metadata": {
        "colab": {
          "base_uri": "https://localhost:8080/"
        },
        "id": "O9OTV6Avu6pS",
        "outputId": "7bfbf146-9469-4540-a427-34602dec6983"
      },
      "execution_count": 35,
      "outputs": [
        {
          "output_type": "execute_result",
          "data": {
            "text/plain": [
              "AgglomerativeClustering(n_clusters=3)"
            ]
          },
          "metadata": {},
          "execution_count": 35
        }
      ]
    },
    {
      "cell_type": "code",
      "source": [
        "result_plot(X, ac.labels_)"
      ],
      "metadata": {
        "colab": {
          "base_uri": "https://localhost:8080/",
          "height": 267
        },
        "id": "Nt82greCvBL6",
        "outputId": "0417174d-19e5-43f4-d2ce-e3c2713a7665"
      },
      "execution_count": 36,
      "outputs": [
        {
          "output_type": "display_data",
          "data": {
            "text/plain": [
              "<Figure size 432x288 with 1 Axes>"
            ],
            "image/png": "[encoded data removed]"
          },
          "metadata": {
            "needs_background": "light"
          }
        }
      ]
    },
    {
      "cell_type": "markdown",
      "source": [
        "類似度はAgglomerativeClusteringの引数linkageで指定する。可能な値は'ward', 'complete', 'average', 'single' で、デフォルトは 'ward'。"
      ],
      "metadata": {
        "id": "LjMdnCo-2spL"
      }
    },
    {
      "cell_type": "markdown",
      "source": [
        "completeのとき"
      ],
      "metadata": {
        "id": "V3StykKt21bg"
      }
    },
    {
      "cell_type": "code",
      "source": [
        "ac = AgglomerativeClustering(linkage='complete', n_clusters=3)\n",
        "ac.fit(X)\n",
        "result_plot(X, ac.labels_)"
      ],
      "metadata": {
        "colab": {
          "base_uri": "https://localhost:8080/",
          "height": 267
        },
        "id": "TiUjCUtx25c-",
        "outputId": "c08063cc-64da-437b-d25d-c6774b6bfc57"
      },
      "execution_count": 38,
      "outputs": [
        {
          "output_type": "display_data",
          "data": {
            "text/plain": [
              "<Figure size 432x288 with 1 Axes>"
            ],
            "image/png": "[encoded data removed]"
          },
          "metadata": {
            "needs_background": "light"
          }
        }
      ]
    },
    {
      "cell_type": "markdown",
      "source": [
        "averageのとき"
      ],
      "metadata": {
        "id": "O2az6_yk2-6N"
      }
    },
    {
      "cell_type": "code",
      "source": [
        "ac = AgglomerativeClustering(linkage='average', n_clusters=3)\n",
        "ac.fit(X)\n",
        "result_plot(X, ac.labels_)"
      ],
      "metadata": {
        "colab": {
          "base_uri": "https://localhost:8080/",
          "height": 267
        },
        "id": "e2Kg0ZyG2q-C",
        "outputId": "abb1cffc-277c-4970-e991-89aa75dad2a1"
      },
      "execution_count": 37,
      "outputs": [
        {
          "output_type": "display_data",
          "data": {
            "text/plain": [
              "<Figure size 432x288 with 1 Axes>"
            ],
            "image/png": "[encoded data removed]"
          },
          "metadata": {
            "needs_background": "light"
          }
        }
      ]
    },
    {
      "cell_type": "markdown",
      "source": [
        "singleのとき"
      ],
      "metadata": {
        "id": "8CmiLSbe3Cel"
      }
    },
    {
      "cell_type": "code",
      "source": [
        "ac = AgglomerativeClustering(linkage='single', n_clusters=3)\n",
        "ac.fit(X)\n",
        "result_plot(X, ac.labels_)"
      ],
      "metadata": {
        "colab": {
          "base_uri": "https://localhost:8080/",
          "height": 267
        },
        "id": "4Qsrvg2Q3F2S",
        "outputId": "fbf800af-8fad-4eca-9488-2edfa073ee71"
      },
      "execution_count": 39,
      "outputs": [
        {
          "output_type": "display_data",
          "data": {
            "text/plain": [
              "<Figure size 432x288 with 1 Axes>"
            ],
            "image/png": "[encoded data removed]"
          },
          "metadata": {
            "needs_background": "light"
          }
        }
      ]
    }
  ]
}