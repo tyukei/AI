{
 "cells": [
  {
   "cell_type": "markdown",
   "metadata": {},
   "source": [
    "# レポート１"
   ]
  },
  {
   "cell_type": "markdown",
   "metadata": {},
   "source": [
    "### scikit-learnのmake_regressionを用いて生成したデータに対して、基底関数を使うことで使わない場合に比べて線形回帰における学習データの誤差をが小さくなることを確認せよ。そして、基底関数を使った場合と使わない場合で汎化誤差にどのような違いが生じるか確かめよ。"
   ]
  },
  {
   "cell_type": "markdown",
   "metadata": {},
   "source": [
    "[sklearn.datasets.make_regression](https://scikit-learn.org/stable/modules/generated/sklearn.datasets.make_regression.html)とは\n",
    "ランダムな回帰問題を生成するライブラリである。\n"
   ]
  }
 ],
 "metadata": {
  "kernelspec": {
   "display_name": "Python 3.8.3 64-bit",
   "language": "python",
   "name": "python3"
  },
  "language_info": {
   "name": "python",
   "version": "3.8.3"
  },
  "orig_nbformat": 4,
  "vscode": {
   "interpreter": {
    "hash": "9524365a422b140a4fbde082ba77d6fda827c3b61907190e27b347655ea7c091"
   }
  }
 },
 "nbformat": 4,
 "nbformat_minor": 2
}
